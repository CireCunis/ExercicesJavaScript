{
 "cells": [
  {
   "cell_type": "markdown",
   "id": "1083a244",
   "metadata": {},
   "source": [
    "# Dixième exercice en JavaScript"
   ]
  },
  {
   "cell_type": "markdown",
   "id": "6b34b83b",
   "metadata": {},
   "source": [
    "<img src=\"https://blog.univ-angers.fr/mathsinfo/files/2022/06/image-10.png\">"
   ]
  },
  {
   "cell_type": "markdown",
   "id": "88d56210",
   "metadata": {},
   "source": [
    "*Résumé en français* : On vous donne une liste contenant des **couleurs** de **moufles** (donc pas de main gauche ou droite à distinguer). On vous demande le **nombre de paires** que vous pouvez **constituer**, c'est-à-dire avoir **2 moufles de la même couleur**. "
   ]
  },
  {
   "cell_type": "markdown",
   "id": "f54ad165",
   "metadata": {},
   "source": [
    "Avec le **premier exemple** donné, on peut constituer une **paire** de moufles **rouge** (red) **et** une paire **bleue** (blue) soit **2 paires**."
   ]
  },
  {
   "cell_type": "markdown",
   "id": "248a940e",
   "metadata": {},
   "source": [
    "## Version classique"
   ]
  },
  {
   "cell_type": "markdown",
   "id": "b44fedd4",
   "metadata": {},
   "source": [
    "Relisez <a href=\"https://blog.univ-angers.fr/mathsinfo/2022/06/07/kata6/\">l'exercice 6</a> que j'ai proposé, vous devriez constater de nombreuses ressemblances.\n",
    "\n",
    "Une **première idée** est de commencer par **récupérer les différentes** couleurs puis, **pour chacune d'elle**, de compter **combien de fois** cette **couleur apparait**. Il suffira de **diviser par 2** ce nombre (sans tenir compte des virgules) pour savoir **combien de paires** on peut **constituer** avec cette couleur. Finalement, on fera la **somme** du **nombre de paires** trouvées."
   ]
  },
  {
   "cell_type": "markdown",
   "id": "d6fdeecc",
   "metadata": {},
   "source": [
    "Je reprends la **structure classique** vue dans l'exercice 6 :"
   ]
  },
  {
   "cell_type": "code",
   "execution_count": 1,
   "id": "6c626080",
   "metadata": {},
   "outputs": [],
   "source": [
    "var nb_paires = gants => \n",
    "{\n",
    "    // On récupère les couleurs \n",
    "    couleurs = gants.reduce((a, g) => a.includes(g) ? a : a.concat(g), []);\n",
    "    // Nb de paires trouvées\n",
    "    paires = 0;\n",
    "    for (c of couleurs)\n",
    "    {\n",
    "        // On compte le nombre de gants de la couleur c puis division par 2\n",
    "        paires += Math.floor(gants.filter(g => g == c).length / 2)\n",
    "    }\n",
    "    return paires\n",
    "}"
   ]
  },
  {
   "cell_type": "code",
   "execution_count": 2,
   "id": "8f57e2e6",
   "metadata": {},
   "outputs": [
    {
     "data": {
      "text/plain": [
       "3"
      ]
     },
     "execution_count": 2,
     "metadata": {},
     "output_type": "execute_result"
    }
   ],
   "source": [
    "nb_paires([\"gray\",\"black\",\"purple\",\"purple\",\"gray\",\"black\"])"
   ]
  },
  {
   "cell_type": "code",
   "execution_count": 3,
   "id": "a31135c9",
   "metadata": {},
   "outputs": [
    {
     "data": {
      "text/plain": [
       "0"
      ]
     },
     "execution_count": 3,
     "metadata": {},
     "output_type": "execute_result"
    }
   ],
   "source": [
    "nb_paires([\"red\",\"green\",\"blue\"])"
   ]
  },
  {
   "cell_type": "markdown",
   "id": "4b77c468",
   "metadata": {},
   "source": [
    "*Remarque* : La division entière par 2 ou des puissances de 2 (c’est-à-dire 4, 8, 16, 32…) peut se faire autrement. En effet, si un nombre est écrit en **binaire**, diviser par 2 revient à supprimer l’unité (**bit** le plus à droite) :"
   ]
  },
  {
   "cell_type": "code",
   "execution_count": 4,
   "id": "54aa9ec3",
   "metadata": {},
   "outputs": [
    {
     "data": {
      "text/plain": [
       "'1101'"
      ]
     },
     "execution_count": 4,
     "metadata": {},
     "output_type": "execute_result"
    }
   ],
   "source": [
    "(13).toString(2)      // 13 en binaire"
   ]
  },
  {
   "cell_type": "code",
   "execution_count": 5,
   "id": "0baab621",
   "metadata": {},
   "outputs": [
    {
     "data": {
      "text/plain": [
       "'110'"
      ]
     },
     "execution_count": 5,
     "metadata": {},
     "output_type": "execute_result"
    }
   ],
   "source": [
    "(6).toString(2)       // Diviser par 2 = supprimer l'unité "
   ]
  },
  {
   "cell_type": "markdown",
   "id": "ed156cda",
   "metadata": {},
   "source": [
    "La raison est que 13 = <strong>1</strong> * 2^<span style=\"text-decoration: underline\">3</span> + <strong>1</strong> * 2^<span style=\"text-decoration: underline\">2</span> + <strong>0</strong> * 2^<span style=\"text-decoration: underline\">1</span> + <strong>1</strong> = 1101<sub>2</sub>.<br>\n",
    "En divisant par 2, toutes les puissances vont diminuer de 1 : 6 = <strong>1</strong> * 2^<span style=\"text-decoration: underline\">2</span> + <strong>1</strong> * 2^<span style=\"text-decoration: underline\">1</span> + <strong>0</strong> * 2^<span style=\"text-decoration: underline\">0</span> = 110<sub>2</sub><br>\n",
    "\n",
    "On utilise `>>` pour décaler un bit vers la droite"
   ]
  },
  {
   "cell_type": "code",
   "execution_count": 6,
   "id": "9470ceaf",
   "metadata": {},
   "outputs": [
    {
     "data": {
      "text/plain": [
       "6"
      ]
     },
     "execution_count": 6,
     "metadata": {},
     "output_type": "execute_result"
    }
   ],
   "source": [
    "13 >> 1"
   ]
  },
  {
   "cell_type": "markdown",
   "id": "92b2ea66",
   "metadata": {},
   "source": [
    "De la même façon, on peut diviser par 4, multiplier par 8 etc :"
   ]
  },
  {
   "cell_type": "code",
   "execution_count": 7,
   "id": "c42460ef",
   "metadata": {},
   "outputs": [
    {
     "data": {
      "text/plain": [
       "3"
      ]
     },
     "execution_count": 7,
     "metadata": {},
     "output_type": "execute_result"
    }
   ],
   "source": [
    "13 >> 2        // Diviser par 4 (c'est-à-dire ÷ 2 fois par 2)"
   ]
  },
  {
   "cell_type": "code",
   "execution_count": 8,
   "id": "e3f64542",
   "metadata": {},
   "outputs": [
    {
     "data": {
      "text/plain": [
       "104"
      ]
     },
     "execution_count": 8,
     "metadata": {},
     "output_type": "execute_result"
    }
   ],
   "source": [
    "13 << 3        // Multiplier par 8 (c'est-à-dire × 3 fois par 2)"
   ]
  },
  {
   "cell_type": "markdown",
   "id": "d5035601",
   "metadata": {},
   "source": [
    "## Version ensembliste"
   ]
  },
  {
   "cell_type": "markdown",
   "id": "e9375d3e",
   "metadata": {},
   "source": [
    "Comme nous l'avons également vu dans l'exercice 6, nous pouvons utiliser des **ensembles** (`set`) pour récupérer les éléments **uniques**. Les versions sont alors nettement plus courtes :"
   ]
  },
  {
   "cell_type": "code",
   "execution_count": 9,
   "id": "6d432895",
   "metadata": {},
   "outputs": [],
   "source": [
    "var nb_paires = gants => [...new Set(gants)]\n",
    "                .reduce((a,v) => a + (gants.filter(c => c == v).length >> 1), 0)"
   ]
  },
  {
   "cell_type": "code",
   "execution_count": 10,
   "id": "3c04efc7",
   "metadata": {},
   "outputs": [
    {
     "data": {
      "text/plain": [
       "3"
      ]
     },
     "execution_count": 10,
     "metadata": {},
     "output_type": "execute_result"
    }
   ],
   "source": [
    "nb_paires([\"gray\",\"black\",\"purple\",\"purple\",\"gray\",\"black\"])"
   ]
  },
  {
   "cell_type": "markdown",
   "id": "90fd0000",
   "metadata": {},
   "source": [
    "## Version utilisant une seule boucle et une pile"
   ]
  },
  {
   "cell_type": "markdown",
   "id": "d38d2080",
   "metadata": {},
   "source": [
    "Est-il vraiment nécessaire de récupérer les couleurs uniques ? Imaginons la situation dans la **vie réelle** avec `'red' 'green' 'red' 'blue' 'blue'` :\n",
    "\n",
    "- Dans ma tête je pense à **0**, c'est le **nombre de paires** que j'ai réussi à faire\n",
    "- Je prends le **premier** gant, il est `'red'`, je n'ai pas cette couleur donc je la garde\n",
    "- Je prends le **deuxième**, il est `'green'`, je n'ai pas cette couleur donc je la garde\n",
    "- Je prends le **troisième**, il est `'red'`. J'ai déjà cette couleur, je peux donc faire une **paire**. **J'enlève** les 2 moufles 'red' et **j'ajoute 1** au nombre de paires\n",
    "- Je prends le **quatrième**, il est `'blue'`,  je n'ai pas cette couleur donc je la garde\n",
    "- Je prends le **cinquième**, il est `'blue'`. J'ai déjà cette couleur, je peux donc faire une **paire**. J'enlève les 2 moufles 'blue' et **j'ajoute 1** au nombre de paires\n",
    "- J'ai finalement réussi à constituer **2 paires**."
   ]
  },
  {
   "cell_type": "markdown",
   "id": "5853d19b",
   "metadata": {},
   "source": [
    "🤖 Refaites de tête le processus avec les gants `'red' 'red' 'red' 'red' 'red'`"
   ]
  },
  {
   "cell_type": "markdown",
   "id": "b44eeb17",
   "metadata": {},
   "source": [
    "**Prendre** un gant revient à **ajouter** un élément dans une liste, inversement **créer** une **paire** à **éliminer** cette couleur de la liste. Voyons comment ajouter, enlever ou tester si un élément est dans un ensemble en utilisant les méthodes `add`, `delete`, `has` :"
   ]
  },
  {
   "cell_type": "code",
   "execution_count": 11,
   "id": "4968c2b2",
   "metadata": {},
   "outputs": [
    {
     "data": {
      "text/plain": [
       "Set(2) { 'red', 'blue' }"
      ]
     },
     "execution_count": 11,
     "metadata": {},
     "output_type": "execute_result"
    }
   ],
   "source": [
    "paires = new Set()       // Ensemble vide\n",
    "paires.add('red')        // on ajoute 'red' à l'ensemble\n",
    "paires.add('blue')\n",
    "paires"
   ]
  },
  {
   "cell_type": "code",
   "execution_count": 12,
   "id": "fea5c34d",
   "metadata": {},
   "outputs": [
    {
     "data": {
      "text/plain": [
       "Set(1) { 'blue' }"
      ]
     },
     "execution_count": 12,
     "metadata": {},
     "output_type": "execute_result"
    }
   ],
   "source": [
    "paires.delete('red')     // on enlève 'red'\n",
    "paires"
   ]
  },
  {
   "cell_type": "code",
   "execution_count": 13,
   "id": "1c2c463c",
   "metadata": {},
   "outputs": [
    {
     "data": {
      "text/plain": [
       "false"
      ]
     },
     "execution_count": 13,
     "metadata": {},
     "output_type": "execute_result"
    }
   ],
   "source": [
    "paires.has('red')        // on teste si 'red' est dans l'ensemble"
   ]
  },
  {
   "cell_type": "markdown",
   "id": "74d805f4",
   "metadata": {},
   "source": [
    "Version finale basée sur cette idée :"
   ]
  },
  {
   "cell_type": "code",
   "execution_count": 14,
   "id": "0df6090d",
   "metadata": {},
   "outputs": [],
   "source": [
    "var nb_paires = gants => {\n",
    "  couleurs = new Set();\n",
    "  paires = 0;\n",
    "  for (c of gants)\n",
    "  {\n",
    "    if (couleurs.has(c)) \n",
    "    {   \n",
    "      couleurs.delete(c);\n",
    "      paires ++\n",
    "    }\n",
    "    else\n",
    "      couleurs.add(c)\n",
    "  }\n",
    "  return paires\n",
    "} "
   ]
  },
  {
   "cell_type": "code",
   "execution_count": 15,
   "id": "babfacab",
   "metadata": {},
   "outputs": [
    {
     "data": {
      "text/plain": [
       "3"
      ]
     },
     "execution_count": 15,
     "metadata": {},
     "output_type": "execute_result"
    }
   ],
   "source": [
    "nb_paires([\"gray\",\"black\",\"purple\",\"purple\",\"gray\",\"black\"])"
   ]
  }
 ],
 "metadata": {
  "kernelspec": {
   "display_name": "JavaScript (Node.js)",
   "language": "javascript",
   "name": "javascript"
  },
  "language_info": {
   "file_extension": ".js",
   "mimetype": "application/javascript",
   "name": "javascript",
   "version": "18.3.0"
  }
 },
 "nbformat": 4,
 "nbformat_minor": 5
}
