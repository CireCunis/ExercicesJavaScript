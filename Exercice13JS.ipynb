{
 "cells": [
  {
   "cell_type": "markdown",
   "id": "da0a2216",
   "metadata": {},
   "source": [
    "# Treizième exercice en JavaScript"
   ]
  },
  {
   "cell_type": "markdown",
   "id": "afcf5553",
   "metadata": {},
   "source": [
    "<img src=\"https://blog.univ-angers.fr/mathsinfo/files/2022/06/image-17.png\">"
   ]
  },
  {
   "cell_type": "markdown",
   "id": "ba155b90",
   "metadata": {},
   "source": [
    "*Résumé en français* : Une pizzeria **récompense** ses meilleurs clients en offrant une **pizza gratuite** s'ils ont fait **au moins 5 achats** d'un **montant au moins égal à 20 EUR**. Cependant, ce **système** est susceptible d'être **modifié** dans le futur. On vous demande de créer une **fonction** qui à partir du **nombre d'achats minimum**, du **montant minimum** et d'un **dictionnaire** contenant les **données** sur vos **clients**, va renvoyer la liste de ceux qui auront une pizza gratuite.\n",
    "\n",
    "<pre># Système 1 : Pour avoir une pizza gratuite, il faut avoir au moins 5 achats d'un montant minimum de 20 EUR.\n",
    "\n",
    "min_achats = 5\n",
    "min_prix = 20\n",
    "conso = {\n",
    "'John Doe' : [22, 30, 11, 17, 15, 52, 27, 12],  # Montants des achats\n",
    "'Jane Doe' : [5, 17, 30, 33, 40, 22, 26, 10, 11, 45]\n",
    "}\n",
    "\n",
    ">> free(conso, min_achats, min_prix)\n",
    "['Jane Doe']     # Elle seule aura une pizza gratuite\n",
    "\n",
    "# Système 2 : Pour avoir une pizza gratuite, il faut avoir au moins 2 achats d'un montant minimum de 50 EUR.\n",
    "\n",
    "min_achats = 2\n",
    "min_prix = 50\n",
    "conso = {\n",
    "'Joey Bonzo' : [22, 67, 53, 29],       # Montants des achats\n",
    "'Jennifer Bonzo' : [51, 19]\n",
    "}\n",
    "\n",
    ">> free(conso, min_achats, min_prix)\n",
    "['Joey Bonzo']</pre>"
   ]
  },
  {
   "cell_type": "markdown",
   "id": "5060fdba",
   "metadata": {},
   "source": [
    "## Version classique"
   ]
  },
  {
   "cell_type": "markdown",
   "id": "322bb57d",
   "metadata": {},
   "source": [
    "Pour chaque consommateur, on va compter le nombre d'achats dont le montant est ≥ au montant minimum imposé. Si ce nombre est ≥ au minimum d'achats, la personne aura une pizza gratuite. \n",
    "\n",
    "On peut imaginer une **première boucl**e pour parcourir les **consommateurs**, une **seconde** pour parcourir les **achats** et enfin un **test** pour savoir **si** cette personne doit avoir une **pizza**.\n",
    "\n",
    "Comment :\n",
    "- récupérer les différents consommateurs ?\n",
    "- récupérer leurs achats ?\n",
    "\n",
    "Partons de cet exemple :"
   ]
  },
  {
   "cell_type": "code",
   "execution_count": 1,
   "id": "395a2f25",
   "metadata": {},
   "outputs": [
    {
     "data": {
      "text/plain": [
       "{\n",
       "  'John Doe': [\n",
       "    22, 30, 11, 17,\n",
       "    15, 52, 27, 12\n",
       "  ],\n",
       "  'Jane Doe': [\n",
       "     5, 17, 30, 33, 40,\n",
       "    22, 26, 10, 11, 45\n",
       "  ]\n",
       "}"
      ]
     },
     "execution_count": 1,
     "metadata": {},
     "output_type": "execute_result"
    }
   ],
   "source": [
    "conso = {\n",
    "'John Doe' : [22, 30, 11, 17, 15, 52, 27, 12],\n",
    "'Jane Doe' : [5, 17, 30, 33, 40, 22, 26, 10, 11, 45]\n",
    "}"
   ]
  },
  {
   "cell_type": "code",
   "execution_count": 2,
   "id": "15243b97",
   "metadata": {},
   "outputs": [
    {
     "data": {
      "text/plain": [
       "[ 'John Doe', 'Jane Doe' ]"
      ]
     },
     "execution_count": 2,
     "metadata": {},
     "output_type": "execute_result"
    }
   ],
   "source": [
    "Object.keys(conso)"
   ]
  },
  {
   "cell_type": "markdown",
   "id": "82c9d49e",
   "metadata": {},
   "source": [
    "Et pour récupérer les achats d'un consommateur :"
   ]
  },
  {
   "cell_type": "code",
   "execution_count": 3,
   "id": "c5ead1e7",
   "metadata": {},
   "outputs": [
    {
     "data": {
      "text/plain": [
       "[\n",
       "  22, 30, 11, 17,\n",
       "  15, 52, 27, 12\n",
       "]"
      ]
     },
     "execution_count": 3,
     "metadata": {},
     "output_type": "execute_result"
    }
   ],
   "source": [
    "conso['John Doe']"
   ]
  },
  {
   "cell_type": "code",
   "execution_count": 4,
   "id": "ed540a07",
   "metadata": {},
   "outputs": [],
   "source": [
    "var free = (conso, min_achats, min_prix) => {\n",
    "    gagnants = [ ];                  // Personnes qui auront une pizza gratuite\n",
    "    for (p of Object.keys(conso))    // On parcourt les consommateurs\n",
    "    {\n",
    "     achats = conso[p];              // Récupération des achats\n",
    "     total = 0 ;                     // Nb d'achats ≥ montant min\n",
    "     for (m of achats)               // On parcourt les achats\n",
    "     {\n",
    "      if (m >= min_prix) total +=1   // Si montant ≥ montant min on ajoute +1\n",
    "     }\n",
    "     if (total >= min_achats) gagnants.push(p) // Suffisamment d'achats = pizza gratuite\n",
    "    }\n",
    "    return gagnants\n",
    "}"
   ]
  },
  {
   "cell_type": "code",
   "execution_count": 5,
   "id": "b08a680f",
   "metadata": {},
   "outputs": [
    {
     "data": {
      "text/plain": [
       "[ 'Jane Doe' ]"
      ]
     },
     "execution_count": 5,
     "metadata": {},
     "output_type": "execute_result"
    }
   ],
   "source": [
    "min_achats = 5\n",
    "min_prix = 20\n",
    "free(conso, min_achats, min_prix)     // Avec l'exemple 1"
   ]
  },
  {
   "cell_type": "markdown",
   "id": "b5c4315a",
   "metadata": {},
   "source": [
    "## Version plus moderne"
   ]
  },
  {
   "cell_type": "markdown",
   "id": "b10abc42",
   "metadata": {},
   "source": [
    "Nous devons **filtrer** les consommateurs suivant un double critère : Nombre de pizzas achetés et ayant un prix ≥ montant minimum. Rappelons brièvement comment on peut filtrer en JavaScript, par exemple en cherchant quels étudiants ont des notes ≥ 10 :"
   ]
  },
  {
   "cell_type": "code",
   "execution_count": 6,
   "id": "fa9e900f",
   "metadata": {},
   "outputs": [
    {
     "data": {
      "text/plain": [
       "[ 12, 11, 17, 18 ]"
      ]
     },
     "execution_count": 6,
     "metadata": {},
     "output_type": "execute_result"
    }
   ],
   "source": [
    "notes = [5, 12, 11, 9, 3, 17, 18, 6]\n",
    "notes.filter(v => v >= 10)"
   ]
  },
  {
   "cell_type": "markdown",
   "id": "cbe9f780",
   "metadata": {},
   "source": [
    "Et pour compter le nombre d'étudiants reçus (c'est-à-dire avec une note ≥ 10 :"
   ]
  },
  {
   "cell_type": "code",
   "execution_count": 7,
   "id": "3b2e2a90",
   "metadata": {},
   "outputs": [
    {
     "data": {
      "text/plain": [
       "4"
      ]
     },
     "execution_count": 7,
     "metadata": {},
     "output_type": "execute_result"
    }
   ],
   "source": [
    "notes.filter(v => v >= 10).length"
   ]
  },
  {
   "cell_type": "code",
   "execution_count": 8,
   "id": "0b7dd3eb",
   "metadata": {},
   "outputs": [
    {
     "data": {
      "text/plain": [
       "4"
      ]
     },
     "execution_count": 8,
     "metadata": {},
     "output_type": "execute_result"
    }
   ],
   "source": [
    "notes.reduce((a, v) => a + (v >= 10), 0)"
   ]
  },
  {
   "cell_type": "markdown",
   "id": "624654ea",
   "metadata": {},
   "source": [
    "On obtient ainsi cette version :"
   ]
  },
  {
   "cell_type": "code",
   "execution_count": 9,
   "id": "fe172b05",
   "metadata": {},
   "outputs": [],
   "source": [
    "var free = (conso, min_achats, min_prix) =>\n",
    "  Object.keys(conso)                  // Liste de consommateurs\n",
    "    .filter(p =>                      // Pour chaque personne p   \n",
    "       conso[p]                       // On filtre ses achats\n",
    "        .filter(m => m >= min_prix)   // en gardant ceux ≥ min_prix\n",
    "        .length                       // On compte le nombre d'achats ok\n",
    "        >= min_achats                // On garde la personne si ≥ min_achats\n",
    "    )"
   ]
  },
  {
   "cell_type": "code",
   "execution_count": 10,
   "id": "e3941028",
   "metadata": {},
   "outputs": [
    {
     "data": {
      "text/plain": [
       "[ 'Jane Doe' ]"
      ]
     },
     "execution_count": 10,
     "metadata": {},
     "output_type": "execute_result"
    }
   ],
   "source": [
    "free(conso, min_achats, min_prix)"
   ]
  }
 ],
 "metadata": {
  "kernelspec": {
   "display_name": "JavaScript (Node.js)",
   "language": "javascript",
   "name": "javascript"
  },
  "language_info": {
   "file_extension": ".js",
   "mimetype": "application/javascript",
   "name": "javascript",
   "version": "18.3.0"
  }
 },
 "nbformat": 4,
 "nbformat_minor": 5
}
