{
 "cells": [
  {
   "cell_type": "markdown",
   "id": "c05d1050",
   "metadata": {},
   "source": [
    "# Quatrième exercice en JavaScript"
   ]
  },
  {
   "cell_type": "markdown",
   "id": "d55cd34b",
   "metadata": {},
   "source": [
    "<img src=\"https://blog.univ-angers.fr/mathsinfo/files/2022/06/image-3.png\">"
   ]
  },
  {
   "cell_type": "markdown",
   "id": "e7ec596f",
   "metadata": {},
   "source": [
    "*Résumé en français* : On vous donne une suite de nombres ainsi qu'une fonction booléenne. On cherche à récupérer le plus long préfixe (c'est-à-dire en commençant par le terme à gauche) d'éléments vérifiés par cette fonction. Par exemple, si la fonction booléenne est \"être un nombre pair\" (`isEven` en anglais) et que la suite de nombres est `[2,4,6,8,1,2,5,4,3,2]`, le plus long préfixe est `[2,4,6,8]` puisqu'ensuite 1 n'est pas pair."
   ]
  },
  {
   "cell_type": "markdown",
   "id": "8ceec4dc",
   "metadata": {},
   "source": [
    "Cet exercice est plus abstrait que les précédents dans le sens où l'un des paramètres est une fonction."
   ]
  },
  {
   "cell_type": "markdown",
   "id": "ab6ff7a4",
   "metadata": {},
   "source": [
    "## A quel endroit faut-il s'arrêter ?"
   ]
  },
  {
   "cell_type": "markdown",
   "id": "4f361e4a",
   "metadata": {},
   "source": [
    "Une idée est de chercher le **rang** (s'il existe) où la fonction booléenne donnera **faux**. On devra alors garder les valeurs entre la position **0** et **rang - 1**. Pour l'exemple donné, la première valeur impaire est à la 4e position (le premier nombre est à la position 0), on garde donc les nombres entre les positions 0 et 4-1=3. En JavaScript c'est assez simple, voici par exemple comment trouver la position du premier nombre impair :"
   ]
  },
  {
   "cell_type": "code",
   "execution_count": 1,
   "id": "c0d0b59b",
   "metadata": {},
   "outputs": [
    {
     "data": {
      "text/plain": [
       "4"
      ]
     },
     "execution_count": 1,
     "metadata": {},
     "output_type": "execute_result"
    }
   ],
   "source": [
    "[2,4,6,8,1,2,5,4,3,2].findIndex(v => v % 2 != 0)"
   ]
  },
  {
   "cell_type": "markdown",
   "id": "925332fc",
   "metadata": {},
   "source": [
    "Remarquez que `v % 2 != 0` peut être remplacé par `v % 2` uniquement puisque si un nombre est impair, `v % 2` sera égal à 1 qui correspond à **VRAI**.\n",
    "\n",
    "Et lorsqu'aucune valeur ne remplit la condition, JavaScript retourne -1 :"
   ]
  },
  {
   "cell_type": "code",
   "execution_count": 2,
   "id": "c01e364e",
   "metadata": {},
   "outputs": [
    {
     "data": {
      "text/plain": [
       "-1"
      ]
     },
     "execution_count": 2,
     "metadata": {},
     "output_type": "execute_result"
    }
   ],
   "source": [
    "[2,4,6,8,1,2,5,4,3,2].findIndex(v => v > 10)  // Nb plus grand que 10 ?"
   ]
  },
  {
   "cell_type": "markdown",
   "id": "31756dd6",
   "metadata": {},
   "source": [
    "On peut donc déjà écrire cette version finale en JavaScript :"
   ]
  },
  {
   "cell_type": "code",
   "execution_count": 3,
   "id": "94135d9e",
   "metadata": {},
   "outputs": [
    {
     "data": {
      "text/plain": [
       "[Function: takeWhile]"
      ]
     },
     "execution_count": 3,
     "metadata": {},
     "output_type": "execute_result"
    }
   ],
   "source": [
    "const pair = n => n % 2 == 0     // true si n est pair, false sinon\n",
    "\n",
    "takeWhile = (a, f) => {\n",
    "  let fin = a.findIndex(v => !f(v));       // On cherche où s'arrêter\n",
    "  return fin == -1 ? a : a.slice(0, fin);  // Tableau complet ou découpage\n",
    "};"
   ]
  },
  {
   "cell_type": "code",
   "execution_count": 4,
   "id": "ae02ebfe",
   "metadata": {},
   "outputs": [
    {
     "data": {
      "text/plain": [
       "[ 2, 4, 6, 8 ]"
      ]
     },
     "execution_count": 4,
     "metadata": {},
     "output_type": "execute_result"
    }
   ],
   "source": [
    "takeWhile([2,4,6,8,1,2,5,4,3,2], pair)"
   ]
  },
  {
   "cell_type": "markdown",
   "id": "52324370",
   "metadata": {},
   "source": [
    "Le `if...else` peut être remplacé par l'**opérateur ternaire** :\n",
    "\n",
    "<pre>condition ? exprSiVrai : exprSiFaux</pre>\n",
    "\n",
    "Dans notre cas, si fin vaut -1, renvoyer le tableau complet sinon faire le découpage. On peut utiliser notre programme avec des fonctions quelconques, par exemple pour trouver le plus long préfixe de carrés (nombres de la forme `n * n`) dans un tableau :"
   ]
  },
  {
   "cell_type": "code",
   "execution_count": 5,
   "id": "57dd1f08",
   "metadata": {},
   "outputs": [
    {
     "data": {
      "text/plain": [
       "[ 4, 9, 36 ]"
      ]
     },
     "execution_count": 5,
     "metadata": {},
     "output_type": "execute_result"
    }
   ],
   "source": [
    "var carre = n => n == (Math.sqrt(n) | 0) ** 2\n",
    "\n",
    "takeWhile([4,9,36,48,100,121], carre)"
   ]
  },
  {
   "cell_type": "markdown",
   "id": "4d7c7a26",
   "metadata": {},
   "source": [
    "La notation `n | 0` est équivalente à un `Math.floor(n)`"
   ]
  },
  {
   "cell_type": "markdown",
   "id": "16811a29",
   "metadata": {},
   "source": [
    "## Modules existants"
   ]
  },
  {
   "cell_type": "markdown",
   "id": "8c8102c3",
   "metadata": {},
   "source": [
    "On retrouve `takewhile` en JavaScript, par exemple dans la bibliothèque <a href=\"https://collect.js.org/\" target=\"_blank\">collect.js</a>.\n",
    "\n",
    "<pre>>> a = collect([2,4,6,8,1,2,5,4,3,2])   // Création d'une collection\n",
    "Object { items: (10) […] }\n",
    "\n",
    ">> const isEven = n => 0 == n % 2       // notre fonction booléenne\n",
    "\n",
    ">> a.takeWhile(isEven)\n",
    "Object { items: (4) […] }\n",
    "\n",
    ">> a.takeWhile(isEven).all()\n",
    "Array(4) [ 2, 4, 6, 8 ]</pre>\n",
    "\n",
    "Ou en une seule ligne :\n",
    "\n",
    "<pre>>> collect([2,4,6,8,1,2,5,4,3,2]).takeWhile(isEven).all()\n",
    "Array(4) [ 2, 4, 6, 8 ]</pre>"
   ]
  },
  {
   "cell_type": "markdown",
   "id": "ca04e490",
   "metadata": {},
   "source": [
    "Ce qui permet de définir notre fonction `_takeWhile` :\n",
    "\n",
    "<pre>>> _takeWhile = (a, f) => collect(a).takeWhile(f).all()\n",
    "\n",
    ">> _takeWhile([2,4,6,8,1,2,5,4,3,2], isEven)\n",
    "Array(4) [ 2, 4, 6, 8 ]</pre>"
   ]
  }
 ],
 "metadata": {
  "kernelspec": {
   "display_name": "JavaScript (Node.js)",
   "language": "javascript",
   "name": "javascript"
  },
  "language_info": {
   "file_extension": ".js",
   "mimetype": "application/javascript",
   "name": "javascript",
   "version": "18.3.0"
  }
 },
 "nbformat": 4,
 "nbformat_minor": 5
}
