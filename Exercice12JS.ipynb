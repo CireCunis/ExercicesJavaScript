{
 "cells": [
  {
   "cell_type": "markdown",
   "id": "51630058",
   "metadata": {},
   "source": [
    "# Douzième exercice en JavaScript"
   ]
  },
  {
   "cell_type": "markdown",
   "id": "7e80fc5e",
   "metadata": {},
   "source": [
    "<img src=\"https://blog.univ-angers.fr/mathsinfo/files/2022/06/image-18.png\">"
   ]
  },
  {
   "cell_type": "markdown",
   "id": "a4e4bc32",
   "metadata": {},
   "source": [
    "*Résumé en français* : On vous donne une chaine de caractères composée de \"chiffres\" ('0' à '9'). Vous devez écrire une fonction qui renvoie une chaine où chaque chiffre est répété le nombre de fois correspondant à sa valeur. Par exemple avec la chaine \"312\", on doit répéter 3 fois le \"3\", 1 fois le \"1\" et 2 fois le \"2\", ce qui donne la chaine \"333122\"."
   ]
  },
  {
   "cell_type": "markdown",
   "id": "ac8dc6f8",
   "metadata": {},
   "source": [
    "## Version classique"
   ]
  },
  {
   "cell_type": "markdown",
   "id": "7ef4ecda",
   "metadata": {},
   "source": [
    "*Première idée*, utiliser **2 boucles**. La **première** pour **récupérer** un à un les caractères de la chaine et la **seconde** pour **dupliquer** le bon nombre de fois chacun de ces caractères."
   ]
  },
  {
   "cell_type": "code",
   "execution_count": 2,
   "id": "e66b52fb",
   "metadata": {},
   "outputs": [],
   "source": [
    "var explose = s => {\n",
    "  sortie = ''                  // initialisation du résultat final\n",
    "  for (c of s) {               // on parcourt la chaine\n",
    "    for (n = 0; n < +c; n++)   // on ajoute le bon nombre de fois...\n",
    "    {     \n",
    "      sortie += c              // ...le caractère\n",
    "    }\n",
    "  }               \n",
    "  return sortie                // retour du résultat\n",
    "}"
   ]
  },
  {
   "cell_type": "code",
   "execution_count": 3,
   "id": "59566d0b",
   "metadata": {},
   "outputs": [
    {
     "data": {
      "text/plain": [
       "'333122'"
      ]
     },
     "execution_count": 3,
     "metadata": {},
     "output_type": "execute_result"
    }
   ],
   "source": [
    "explose(\"312\")"
   ]
  },
  {
   "cell_type": "code",
   "execution_count": 4,
   "id": "569f89ae",
   "metadata": {},
   "outputs": [
    {
     "data": {
      "text/plain": [
       "'33322'"
      ]
     },
     "execution_count": 4,
     "metadata": {},
     "output_type": "execute_result"
    }
   ],
   "source": [
    "explose(\"302\")"
   ]
  },
  {
   "cell_type": "code",
   "execution_count": 5,
   "id": "f8a4fbdd",
   "metadata": {},
   "outputs": [
    {
     "data": {
      "text/plain": [
       "'12222666666999999999'"
      ]
     },
     "execution_count": 5,
     "metadata": {},
     "output_type": "execute_result"
    }
   ],
   "source": [
    "explose(\"102269\")"
   ]
  },
  {
   "cell_type": "markdown",
   "id": "2c8c039d",
   "metadata": {},
   "source": [
    "## Une seule boucle + répéter"
   ]
  },
  {
   "cell_type": "markdown",
   "id": "2cae3571",
   "metadata": {},
   "source": [
    "En JavaScript il est simple de répéter un caractère :"
   ]
  },
  {
   "cell_type": "code",
   "execution_count": 1,
   "id": "4586168d",
   "metadata": {},
   "outputs": [
    {
     "data": {
      "text/plain": [
       "'aaaaa'"
      ]
     },
     "execution_count": 1,
     "metadata": {},
     "output_type": "execute_result"
    }
   ],
   "source": [
    "'a'.repeat(5)"
   ]
  },
  {
   "cell_type": "markdown",
   "id": "04e4c713",
   "metadata": {},
   "source": [
    "On peut également **répéter** un caractère **0 fois**, dans ce cas on obtient la **chaine vide**. D'où cette **seconde version** :"
   ]
  },
  {
   "cell_type": "code",
   "execution_count": 9,
   "id": "fc98ae35",
   "metadata": {},
   "outputs": [],
   "source": [
    "var explose = s => {\n",
    "    sortie = '';\n",
    "    for (c of s) sortie += c.repeat(+c);     // Voir dessous pour +c\n",
    "    return sortie\n",
    "}"
   ]
  },
  {
   "cell_type": "code",
   "execution_count": 10,
   "id": "03ef7af8",
   "metadata": {},
   "outputs": [
    {
     "data": {
      "text/plain": [
       "5"
      ]
     },
     "execution_count": 10,
     "metadata": {},
     "output_type": "execute_result"
    }
   ],
   "source": [
    "+'5'             // Transformer une chaine en nombre"
   ]
  },
  {
   "cell_type": "code",
   "execution_count": 8,
   "id": "017861bc",
   "metadata": {},
   "outputs": [
    {
     "data": {
      "text/plain": [
       "5"
      ]
     },
     "execution_count": 8,
     "metadata": {},
     "output_type": "execute_result"
    }
   ],
   "source": [
    "Number('5')       // Même chose que Number"
   ]
  },
  {
   "cell_type": "markdown",
   "id": "05b7216b",
   "metadata": {},
   "source": [
    "## Autre écriture"
   ]
  },
  {
   "cell_type": "markdown",
   "id": "38a50dfe",
   "metadata": {},
   "source": [
    "Nous devons **transformer** chaque caractère en sa répétition, ce qui donne un tableau de taille celle de la chaine initiale :"
   ]
  },
  {
   "cell_type": "code",
   "execution_count": 11,
   "id": "a847abb6",
   "metadata": {},
   "outputs": [
    {
     "data": {
      "text/plain": [
       "[ '333', '1', '22' ]"
      ]
     },
     "execution_count": 11,
     "metadata": {},
     "output_type": "execute_result"
    }
   ],
   "source": [
    "[...\"312\"].map(c => c.repeat(+c))   // map = transformation"
   ]
  },
  {
   "cell_type": "markdown",
   "id": "2a091544",
   "metadata": {},
   "source": [
    "Il suffit ensuite de joindre les différents éléments, d'où cette troisième version :"
   ]
  },
  {
   "cell_type": "code",
   "execution_count": 12,
   "id": "b5ab4656",
   "metadata": {},
   "outputs": [],
   "source": [
    "var explose = s => [...s].map(c => c.repeat(+c)).join('')"
   ]
  },
  {
   "cell_type": "code",
   "execution_count": 13,
   "id": "8d321b1c",
   "metadata": {},
   "outputs": [
    {
     "data": {
      "text/plain": [
       "'44444444122'"
      ]
     },
     "execution_count": 13,
     "metadata": {},
     "output_type": "execute_result"
    }
   ],
   "source": [
    "explose(\"44012\")"
   ]
  },
  {
   "cell_type": "markdown",
   "id": "b52a6857",
   "metadata": {},
   "source": [
    "JavaScript est tolérant sur les mélanges de types :"
   ]
  },
  {
   "cell_type": "code",
   "execution_count": 14,
   "id": "fabfca93",
   "metadata": {},
   "outputs": [
    {
     "data": {
      "text/plain": [
       "'aaa'"
      ]
     },
     "execution_count": 14,
     "metadata": {},
     "output_type": "execute_result"
    }
   ],
   "source": [
    "'a'.repeat('3')     // utilisation de '3' au lieu de 3"
   ]
  },
  {
   "cell_type": "code",
   "execution_count": 15,
   "id": "659a0f36",
   "metadata": {},
   "outputs": [
    {
     "data": {
      "text/plain": [
       "12"
      ]
     },
     "execution_count": 15,
     "metadata": {},
     "output_type": "execute_result"
    }
   ],
   "source": [
    "3 * '4'             // multiplication d'un nombre par un caractère"
   ]
  },
  {
   "cell_type": "markdown",
   "id": "8e6df89c",
   "metadata": {},
   "source": [
    "Ce qui amène à cette version :"
   ]
  },
  {
   "cell_type": "code",
   "execution_count": 16,
   "id": "c3a8eca4",
   "metadata": {},
   "outputs": [],
   "source": [
    "var explose = s => [...s].map(c => c.repeat(c)).join``"
   ]
  },
  {
   "cell_type": "code",
   "execution_count": 17,
   "id": "3de8e6df",
   "metadata": {},
   "outputs": [
    {
     "data": {
      "text/plain": [
       "'44444444122'"
      ]
     },
     "execution_count": 17,
     "metadata": {},
     "output_type": "execute_result"
    }
   ],
   "source": [
    "explose(\"44012\")"
   ]
  },
  {
   "cell_type": "markdown",
   "id": "b2b41695",
   "metadata": {},
   "source": [
    "On peut également utiliser `reduce`, c'est-à-dire partir d'une chaine vide et au fur et à mesure ajouter les caractères répétés, voici une version :"
   ]
  },
  {
   "cell_type": "code",
   "execution_count": 18,
   "id": "c7b99587",
   "metadata": {},
   "outputs": [],
   "source": [
    "var explose = s => [...s].reduce((a, c) => a + c.repeat(c), '')"
   ]
  },
  {
   "cell_type": "code",
   "execution_count": 19,
   "id": "339ba416",
   "metadata": {},
   "outputs": [
    {
     "data": {
      "text/plain": [
       "'44444444122'"
      ]
     },
     "execution_count": 19,
     "metadata": {},
     "output_type": "execute_result"
    }
   ],
   "source": [
    "explose(\"44012\")"
   ]
  },
  {
   "cell_type": "markdown",
   "id": "6921a88d",
   "metadata": {},
   "source": [
    "## Remplacements et expressions régulières"
   ]
  },
  {
   "cell_type": "markdown",
   "id": "a2dcfb0f",
   "metadata": {},
   "source": [
    "Une autre idée est de ce dire que chaque \"chiffre\" doit être remplacé par sa duplication. Voyons comment on effectue des remplacements en JavaScript :"
   ]
  },
  {
   "cell_type": "code",
   "execution_count": 20,
   "id": "a98747f7",
   "metadata": {},
   "outputs": [
    {
     "data": {
      "text/plain": [
       "'b*njour'"
      ]
     },
     "execution_count": 20,
     "metadata": {},
     "output_type": "execute_result"
    }
   ],
   "source": [
    "'bonjour'.replace('o','*')     // Un seul 'o' sera remplacé par '*'"
   ]
  },
  {
   "cell_type": "code",
   "execution_count": 21,
   "id": "b836b57f",
   "metadata": {},
   "outputs": [
    {
     "data": {
      "text/plain": [
       "'b*nj*ur'"
      ]
     },
     "execution_count": 21,
     "metadata": {},
     "output_type": "execute_result"
    }
   ],
   "source": [
    "'bonjour'.replace(/o/g,'*')    // Tous les 'o' sont remplacés (g pour global)"
   ]
  },
  {
   "cell_type": "code",
   "execution_count": 22,
   "id": "842700f2",
   "metadata": {},
   "outputs": [
    {
     "data": {
      "text/plain": [
       "'*a*b**'"
      ]
     },
     "execution_count": 22,
     "metadata": {},
     "output_type": "execute_result"
    }
   ],
   "source": [
    "\"3a1b22\".replace(/\\d/g, '*')   // Remplacer les chiffres (digits)"
   ]
  },
  {
   "cell_type": "code",
   "execution_count": 23,
   "id": "6618d27a",
   "metadata": {},
   "outputs": [
    {
     "data": {
      "text/plain": [
       "'5967'"
      ]
     },
     "execution_count": 23,
     "metadata": {},
     "output_type": "execute_result"
    }
   ],
   "source": [
    "'4032'.replace(/./g, v => 9 - v)  // '.' = caractère quelconque\n",
    "// Les chiffres sont remplacés par 9 - valeur"
   ]
  },
  {
   "cell_type": "code",
   "execution_count": 24,
   "id": "c9d18494",
   "metadata": {},
   "outputs": [
    {
     "data": {
      "text/plain": [
       "'OkjAIcOmprIs'"
      ]
     },
     "execution_count": 24,
     "metadata": {},
     "output_type": "execute_result"
    }
   ],
   "source": [
    "\"okjaicompris\".replace(/a|e|i|o|u/g, c => c.toUpperCase())\n",
    "// Mettre toutes les voyelles en majuscules"
   ]
  },
  {
   "cell_type": "markdown",
   "id": "946a6dda",
   "metadata": {},
   "source": [
    "D'où cette version finale :"
   ]
  },
  {
   "cell_type": "code",
   "execution_count": 25,
   "id": "8652645d",
   "metadata": {},
   "outputs": [],
   "source": [
    "var explose = s => s.replace(/./g, v => v.repeat(v))"
   ]
  },
  {
   "cell_type": "code",
   "execution_count": 26,
   "id": "171b0828",
   "metadata": {},
   "outputs": [
    {
     "data": {
      "text/plain": [
       "'33314444155555999999999'"
      ]
     },
     "execution_count": 26,
     "metadata": {},
     "output_type": "execute_result"
    }
   ],
   "source": [
    "explose('314159')"
   ]
  }
 ],
 "metadata": {
  "kernelspec": {
   "display_name": "JavaScript (Node.js)",
   "language": "javascript",
   "name": "javascript"
  },
  "language_info": {
   "file_extension": ".js",
   "mimetype": "application/javascript",
   "name": "javascript",
   "version": "18.3.0"
  }
 },
 "nbformat": 4,
 "nbformat_minor": 5
}
