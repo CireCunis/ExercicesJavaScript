{
 "cells": [
  {
   "cell_type": "markdown",
   "id": "b578961e",
   "metadata": {},
   "source": [
    "# Exercice 1 (programmation JavaScript)"
   ]
  },
  {
   "cell_type": "markdown",
   "id": "b7696046",
   "metadata": {},
   "source": [
    "## Enoncé"
   ]
  },
  {
   "cell_type": "markdown",
   "id": "84b33e63",
   "metadata": {},
   "source": [
    "<img src=\"https://blog.univ-angers.fr/mathsinfo/files/2022/06/image.png\">"
   ]
  },
  {
   "cell_type": "markdown",
   "id": "109beafa",
   "metadata": {},
   "source": [
    "*Résumé en français* : 2 paramètres entiers vous sont donnés, par exemple 1 et 9, le premier étant toujours inférieur au second (mais ils peuvent être négatifs). Vous devez trouver combien de nombres sont entre les 2 sachant qu’ils ne doivent pas contenir de ‘5’."
   ]
  },
  {
   "cell_type": "markdown",
   "id": "0e5a06f4",
   "metadata": {},
   "source": [
    "## Version classique"
   ]
  },
  {
   "cell_type": "code",
   "execution_count": 3,
   "id": "4406db15",
   "metadata": {},
   "outputs": [],
   "source": [
    "function dont_give_me_five(debut, fin) {\n",
    "    let compteur = 0;\n",
    "    for (let i = debut; i <= fin; i++)\n",
    "        if (!i.toString().includes(\"5\"))\n",
    "            compteur++;\n",
    "    return compteur;\n",
    "}"
   ]
  },
  {
   "cell_type": "code",
   "execution_count": 4,
   "id": "1b5a0355",
   "metadata": {},
   "outputs": [
    {
     "data": {
      "text/plain": [
       "12"
      ]
     },
     "execution_count": 4,
     "metadata": {},
     "output_type": "execute_result"
    }
   ],
   "source": [
    "dont_give_me_five(4, 17)"
   ]
  },
  {
   "cell_type": "markdown",
   "id": "86cd1ac9",
   "metadata": {},
   "source": [
    "Cette version a le mérite d’être simple à comprendre. On initialise un **compteur** à zéro et on parcourt la liste complète des nombres entre **debut** et **fin** (avec un +1 pour inclure la valeur **fin**).\n",
    "Pour savoir si 5 est ou n’est pas dans le nombre, on transforme le nombre **v** en chaine de caractères (**str**) et on teste si le caractère ‘5’ n’est pas dans cette chaine. C’est beaucoup plus facile que de le faire avec des formules mathématiques !\n",
    "Si c’est vrai que ‘5’ n’est pas dans la chaine, le compteur augmente de 1."
   ]
  },
  {
   "cell_type": "markdown",
   "id": "7626c5e6",
   "metadata": {},
   "source": [
    "En JavaScript, le `!` signifie **négation** et `includes` **contient**. On peut aussi utiliser une expression régulière qui testera (`test`) s’il y a un 5 et qui au passage convertira le paramètre (ici le nombre `i`) en chaine :"
   ]
  },
  {
   "cell_type": "code",
   "execution_count": 5,
   "id": "c7b9f9fe",
   "metadata": {},
   "outputs": [],
   "source": [
    "function dont_give_me_five(debut, fin) {\n",
    "    let compteur = 0;\n",
    "    for (let i = debut; i <= fin; i++)\n",
    "        if (!/5/.test(i))\n",
    "            compteur++;\n",
    "    return compteur;\n",
    "}"
   ]
  },
  {
   "cell_type": "markdown",
   "id": "7e652a75",
   "metadata": {},
   "source": [
    "## Autre version"
   ]
  },
  {
   "cell_type": "markdown",
   "id": "285830ee",
   "metadata": {},
   "source": [
    "Voyons comment utiliser `reduce` afin d’ajouter +1 (ou + true) à chaque fois que le nombre convient. Pour cela il faut partir d’un tableau de taille fin – debut + 1, peut importe son contenu :"
   ]
  },
  {
   "cell_type": "code",
   "execution_count": 6,
   "id": "3d5d97bc",
   "metadata": {},
   "outputs": [
    {
     "data": {
      "text/plain": [
       "[\n",
       "  undefined, undefined,\n",
       "  undefined, undefined,\n",
       "  undefined, undefined,\n",
       "  undefined, undefined,\n",
       "  undefined, undefined,\n",
       "  undefined, undefined,\n",
       "  undefined, undefined\n",
       "]"
      ]
     },
     "execution_count": 6,
     "metadata": {},
     "output_type": "execute_result"
    }
   ],
   "source": [
    "[...Array(17 - 4 + 1)]"
   ]
  },
  {
   "cell_type": "markdown",
   "id": "edafe7a9",
   "metadata": {},
   "source": [
    "`reduce` utilise un accumulateur ayant une valeur initiale (pour nous 0) et au fur et à mesure cet accumulateur va pouvoir changer. Ci-dessous 3 paramètres ont être ajoutés, l’accumulateur `a`, la valeur `v` et le rang `r`\n",
    ". Ainsi, en parcourant les éléments d’un tableau, on peut récupérer leurs valeurs et leurs rangs. Le 0 après la virgule est pour l’initialisation de l’accumulateur.\n",
    "\n",
    "<pre>[...Array(17 - 4 + 1)].reduce((a,v,r) =>    , 0)</pre>\n",
    "\n",
    "Vous devriez comprendre l’idée de cette version :"
   ]
  },
  {
   "cell_type": "code",
   "execution_count": 9,
   "id": "0c07f324",
   "metadata": {},
   "outputs": [],
   "source": [
    "var dont_give_me_five = (debut,fin) => [...Array(fin - debut + 1)]\n",
    "     .reduce(\n",
    "       (a, _ ,r) => a + !/5/.test(r + debut)\n",
    "     ,0)"
   ]
  },
  {
   "cell_type": "code",
   "execution_count": 11,
   "id": "d5da628d",
   "metadata": {},
   "outputs": [
    {
     "data": {
      "text/plain": [
       "8"
      ]
     },
     "execution_count": 11,
     "metadata": {},
     "output_type": "execute_result"
    }
   ],
   "source": [
    "dont_give_me_five(1, 9)"
   ]
  }
 ],
 "metadata": {
  "kernelspec": {
   "display_name": "JavaScript (Node.js)",
   "language": "javascript",
   "name": "javascript"
  },
  "language_info": {
   "file_extension": ".js",
   "mimetype": "application/javascript",
   "name": "javascript",
   "version": "18.3.0"
  }
 },
 "nbformat": 4,
 "nbformat_minor": 5
}
