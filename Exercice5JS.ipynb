{
 "cells": [
  {
   "cell_type": "markdown",
   "id": "fe8d3904",
   "metadata": {},
   "source": [
    "# Cinquième exercice en JavaScript"
   ]
  },
  {
   "cell_type": "markdown",
   "id": "d4dba9e5",
   "metadata": {},
   "source": [
    "<img src=\"https://blog.univ-angers.fr/mathsinfo/files/2022/06/image-4.png\">"
   ]
  },
  {
   "cell_type": "markdown",
   "id": "1f899d69",
   "metadata": {},
   "source": [
    "Exemple 1 : `~O~O~O~OP`\n",
    "Tous les rats vont bien vers le joueur de flûte, donc aucun n'est sourd. Valeur attendue = 0\n",
    "\n",
    "Exemple 2 : `PO~O~~OO~`\n",
    "Le rat souligné va dans la mauvaise direction, il est donc sourd. Valeur attendue = 1\n",
    "\n",
    "Exemple 3 : `~OO~~O~OP~OO~O~`\n",
    "Cette fois il y a 2 rats sourds. Valeur attendue = 2"
   ]
  },
  {
   "cell_type": "markdown",
   "id": "dddcd526",
   "metadata": {},
   "source": [
    "## Séparer les rats à gauche et à droite du joueur de flûte"
   ]
  },
  {
   "cell_type": "markdown",
   "id": "c1ee6357",
   "metadata": {},
   "source": [
    "Une *première idée* est de récupérer les rats qui sont à **gauche** et à **droite** du joueur de flûte. Pour cela on utilise `split` :"
   ]
  },
  {
   "cell_type": "code",
   "execution_count": 1,
   "id": "dd8fa4ae",
   "metadata": {},
   "outputs": [
    {
     "data": {
      "text/plain": [
       "['~O~O~O~O', '']"
      ]
     },
     "execution_count": 1,
     "metadata": {},
     "output_type": "execute_result"
    }
   ],
   "source": [
    "'~O~O~O~OP'.split('P')"
   ]
  },
  {
   "cell_type": "code",
   "execution_count": 2,
   "id": "f4f7ca5e",
   "metadata": {},
   "outputs": [
    {
     "data": {
      "text/plain": [
       "['', 'O~O~~OO~']"
      ]
     },
     "execution_count": 2,
     "metadata": {},
     "output_type": "execute_result"
    }
   ],
   "source": [
    "'PO~O~~OO~'.split('P')"
   ]
  },
  {
   "cell_type": "code",
   "execution_count": 3,
   "id": "afa05146",
   "metadata": {},
   "outputs": [
    {
     "data": {
      "text/plain": [
       "['~OO~~O~O', '~OO~O~']"
      ]
     },
     "execution_count": 3,
     "metadata": {},
     "output_type": "execute_result"
    }
   ],
   "source": [
    "'~OO~~O~OP~OO~O~'.split('P')"
   ]
  },
  {
   "cell_type": "markdown",
   "id": "95b3da50",
   "metadata": {},
   "source": [
    "Ensuite, un rat sera sourd dans la partie **gauche** s'il y a un 'O' à une position **paire** (puisque l'on est censé avoir déjà la queue du rat puis la tête ~O et pas l'inverse). De la même façon, dans la partie **droite**, un rat est sourd si on trouve un 'O' à une position **impaire**. \n",
    "\n",
    "En fait une boucle suffit si on concatène **gauche** et **droite** (et que l'on retourne une des 2 chaines). C'est-à-dire passer de `['~OO~~O~O', '~OO~O~']` à l'unique chaine `'~OO~~O~O~O~OO~'` (on a retourné tous les rats qui étaient dans la partie **droite**). Les rats sourds sont ceux où il y a un 'O' à une position paire (rappel, en JavaScript le premier élément d'une chaine ou d'un tableau est à la position **0**). "
   ]
  },
  {
   "cell_type": "markdown",
   "id": "e4f99935",
   "metadata": {},
   "source": [
    "Retourner une chaine en JavaScript :"
   ]
  },
  {
   "cell_type": "code",
   "execution_count": 1,
   "id": "6708e3f4",
   "metadata": {},
   "outputs": [
    {
     "data": {
      "text/plain": [
       "[\n",
       "  'b', 'o', 'n',\n",
       "  'j', 'o', 'u',\n",
       "  'r'\n",
       "]"
      ]
     },
     "execution_count": 1,
     "metadata": {},
     "output_type": "execute_result"
    }
   ],
   "source": [
    "[...'bonjour']"
   ]
  },
  {
   "cell_type": "code",
   "execution_count": 2,
   "id": "4f8aa5b8",
   "metadata": {},
   "outputs": [
    {
     "data": {
      "text/plain": [
       "[\n",
       "  'r', 'u', 'o',\n",
       "  'j', 'n', 'o',\n",
       "  'b'\n",
       "]"
      ]
     },
     "execution_count": 2,
     "metadata": {},
     "output_type": "execute_result"
    }
   ],
   "source": [
    "[...'bonjour'].reverse()"
   ]
  },
  {
   "cell_type": "code",
   "execution_count": 3,
   "id": "9c0a5937",
   "metadata": {},
   "outputs": [
    {
     "data": {
      "text/plain": [
       "'ruojnob'"
      ]
     },
     "execution_count": 3,
     "metadata": {},
     "output_type": "execute_result"
    }
   ],
   "source": [
    "[...'bonjour'].reverse().join('')"
   ]
  },
  {
   "cell_type": "markdown",
   "id": "10ec6782",
   "metadata": {},
   "source": [
    "Si on a fréquemment besoin d'inverser une chaine en JavaScript, soit on trouve une bibliothèque (comme <a href=\"https://github.com/mathiasbynens/esrever\" target=\"_blank\">Esrever</a>) contenant cette fonctionnalité, ou on crée un **prototype** :"
   ]
  },
  {
   "cell_type": "code",
   "execution_count": 4,
   "id": "172fd0dd",
   "metadata": {},
   "outputs": [
    {
     "data": {
      "text/plain": [
       "[Function (anonymous)]"
      ]
     },
     "execution_count": 4,
     "metadata": {},
     "output_type": "execute_result"
    }
   ],
   "source": [
    "String.prototype.reverse = function() {\n",
    "  return this.split(\"\").reverse().join(\"\");\n",
    "}"
   ]
  },
  {
   "cell_type": "code",
   "execution_count": 5,
   "id": "92bb809c",
   "metadata": {},
   "outputs": [
    {
     "data": {
      "text/plain": [
       "'ruojnob'"
      ]
     },
     "execution_count": 5,
     "metadata": {},
     "output_type": "execute_result"
    }
   ],
   "source": [
    "'bonjour'.reverse()"
   ]
  },
  {
   "cell_type": "markdown",
   "id": "ebcf5139",
   "metadata": {},
   "source": [
    "Nous avons besoin de parcourir une chaine et accumuler le nombre de rats sourds, cela fait penser à `reduce` que nous avons utilisé au premier exercice. Notre accumulateur `a` sera le nombre de rats sourds (initialisé à **0**) qui incrémentera de 1 au fur et à mesure."
   ]
  },
  {
   "cell_type": "code",
   "execution_count": 6,
   "id": "07dc0d69",
   "metadata": {},
   "outputs": [],
   "source": [
    "var rats_sourds = ville => {\n",
    "    [gauche, droite] = ville.split('P');\n",
    "    rats = gauche + [...droite].reverse().join('');\n",
    "    return [...rats]\n",
    "       .reduce((a, c, i) => i%2 == 0 && c == 'O' ? a + 1 : a, 0)}"
   ]
  },
  {
   "cell_type": "code",
   "execution_count": 7,
   "id": "63631e8b",
   "metadata": {},
   "outputs": [
    {
     "data": {
      "text/plain": [
       "0"
      ]
     },
     "execution_count": 7,
     "metadata": {},
     "output_type": "execute_result"
    }
   ],
   "source": [
    "rats_sourds('~O~O~O~OP')"
   ]
  },
  {
   "cell_type": "code",
   "execution_count": 8,
   "id": "04291bed",
   "metadata": {},
   "outputs": [
    {
     "data": {
      "text/plain": [
       "1"
      ]
     },
     "execution_count": 8,
     "metadata": {},
     "output_type": "execute_result"
    }
   ],
   "source": [
    "rats_sourds('PO~O~~OO~')"
   ]
  },
  {
   "cell_type": "code",
   "execution_count": 9,
   "id": "c1ef39ce",
   "metadata": {},
   "outputs": [
    {
     "data": {
      "text/plain": [
       "2"
      ]
     },
     "execution_count": 9,
     "metadata": {},
     "output_type": "execute_result"
    }
   ],
   "source": [
    "rats_sourds('~OO~~O~OP~OO~O~')"
   ]
  },
  {
   "cell_type": "markdown",
   "id": "9196e4da",
   "metadata": {},
   "source": [
    "## A-t-on vraiment besoin de séparer la gauche et la droite ?"
   ]
  },
  {
   "cell_type": "markdown",
   "id": "581605f5",
   "metadata": {},
   "source": [
    "En observant un peu plus attentivement la chaine représentant une ville, par exemple `'~OO~~O~OP~OO~O~'`, on se rend compte que peu importe l'emplacement du joueur de flûte, il y aura un rat sourd dès qu'un `'O'` est observé à une position **paire**. Par exemple dans la ville `'P~OO~O~'`, la tête du rat sourd est bien à une position paire.\n",
    "\n",
    "*Finalement, il suffit de compter le nombre de 'O' qu'il y a dans la ville en n'ayant récupéré que les lettres qui sont aux positions paires.*"
   ]
  },
  {
   "cell_type": "markdown",
   "id": "88d73496",
   "metadata": {},
   "source": [
    "Et le programme final, beaucoup plus court suite à notre analyse : "
   ]
  },
  {
   "cell_type": "code",
   "execution_count": 10,
   "id": "5e5758d1",
   "metadata": {},
   "outputs": [],
   "source": [
    "var rats_sourds = ville => [...ville]\n",
    "       .reduce((a, c, i) => i%2 == 0 && c == 'O' ? a + 1 : a, 0)"
   ]
  },
  {
   "cell_type": "code",
   "execution_count": 11,
   "id": "75ddc5ec",
   "metadata": {},
   "outputs": [
    {
     "data": {
      "text/plain": [
       "2"
      ]
     },
     "execution_count": 11,
     "metadata": {},
     "output_type": "execute_result"
    }
   ],
   "source": [
    "rats_sourds('~OO~~O~OP~OO~O~')"
   ]
  },
  {
   "cell_type": "markdown",
   "id": "f6324712",
   "metadata": {},
   "source": [
    "On peut aussi utiliser un filtre pour ne garder que les 'O' qui sont à des positions paires puis compter le nombre d'éléments (`length`) :"
   ]
  },
  {
   "cell_type": "code",
   "execution_count": 12,
   "id": "a4620cbd",
   "metadata": {},
   "outputs": [],
   "source": [
    "var rats_sourds = ville => [...ville]\n",
    "       .filter((c, i) => i%2 == 0 && c == 'O').length"
   ]
  },
  {
   "cell_type": "code",
   "execution_count": 13,
   "id": "39a97703",
   "metadata": {},
   "outputs": [
    {
     "data": {
      "text/plain": [
       "0"
      ]
     },
     "execution_count": 13,
     "metadata": {},
     "output_type": "execute_result"
    }
   ],
   "source": [
    "rats_sourds('~O~O~O~OP')"
   ]
  },
  {
   "cell_type": "code",
   "execution_count": 14,
   "id": "9c6efa38",
   "metadata": {},
   "outputs": [
    {
     "data": {
      "text/plain": [
       "1"
      ]
     },
     "execution_count": 14,
     "metadata": {},
     "output_type": "execute_result"
    }
   ],
   "source": [
    "rats_sourds('PO~O~~OO~')"
   ]
  },
  {
   "cell_type": "code",
   "execution_count": 15,
   "id": "b900f0db",
   "metadata": {},
   "outputs": [
    {
     "data": {
      "text/plain": [
       "2"
      ]
     },
     "execution_count": 15,
     "metadata": {},
     "output_type": "execute_result"
    }
   ],
   "source": [
    "rats_sourds('~OO~~O~OP~OO~O~')"
   ]
  }
 ],
 "metadata": {
  "kernelspec": {
   "display_name": "JavaScript (Node.js)",
   "language": "javascript",
   "name": "javascript"
  },
  "language_info": {
   "file_extension": ".js",
   "mimetype": "application/javascript",
   "name": "javascript",
   "version": "18.3.0"
  }
 },
 "nbformat": 4,
 "nbformat_minor": 5
}
