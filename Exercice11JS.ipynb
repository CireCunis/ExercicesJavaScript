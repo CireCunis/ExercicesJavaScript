{
 "cells": [
  {
   "cell_type": "markdown",
   "id": "f944bf38",
   "metadata": {},
   "source": [
    "# Onzième exercice en JavaScript"
   ]
  },
  {
   "cell_type": "markdown",
   "id": "007966ee",
   "metadata": {},
   "source": [
    "<img src=\"https://blog.univ-angers.fr/mathsinfo/files/2022/06/image-11.png\">"
   ]
  },
  {
   "cell_type": "markdown",
   "id": "330566df",
   "metadata": {},
   "source": [
    "*Résumé en français* : On vous donne une **matrice carrée** et un **nombre** `n`, vous devez renvoyer cette matrice dont les tous les termes ont été tournés (`n` rotations) dans le sens **anti-horaire**. Exemple avec une matrice 3 x 3 :\n",
    "\n",
    "<pre>      Matrice initiale\n",
    "1 2 3\n",
    "4 5 6\n",
    "7 8 9\n",
    "      n = 1 rotation anti-horaire\n",
    "3 6 9\n",
    "2 5 8\n",
    "1 4 7\n",
    "      n = 2 rotations anti-horaire\n",
    "9 8 7\n",
    "6 5 4\n",
    "3 2 1\n",
    "      n = 3 rotations anti-horaire\n",
    "7 4 1\n",
    "8 5 2\n",
    "9 6 3</pre>"
   ]
  },
  {
   "cell_type": "markdown",
   "id": "c70677b4",
   "metadata": {},
   "source": [
    "## Effort moyen avec renversements et transposée"
   ]
  },
  {
   "cell_type": "markdown",
   "id": "1aeb5b23",
   "metadata": {},
   "source": [
    "Remarquons que 2 rotations n<sub>1</sub> et n<sub>2</sub> sont **équivalentes** si la différence n<sub>1</sub> - n<sub>2</sub> est un **multiple** de 4. Par exemple, effectuer 1 rotation anti-horaire est équivalent à faire 5 rotations anti-horaires.\n",
    "\n",
    "De façon plus générale, `n` rotations anti-horaires sont équivalentes à `n % 4` rotations anti-horaires."
   ]
  },
  {
   "attachments": {},
   "cell_type": "markdown",
   "id": "66b246bc",
   "metadata": {},
   "source": [
    "Le **diagramme** ci-dessous montre que l'on peut obtenir une rotation anti-horaire ↺ à l'aide de ⍉ (**transposée**) et ⊖ (**renversement vertical**) ou de ⍉ et ⌽ (**renversement horizontal**) :\n",
    "\n",
    "<img src=\"https://blog.univ-angers.fr/mathsinfo/files/2022/06/image-13.png\">"
   ]
  },
  {
   "cell_type": "markdown",
   "id": "9edc7316",
   "metadata": {},
   "source": [
    "La bibliothèque JavaScript `Ramda` permet de faire des renversements et de transposer des tableaux. On peut donc remplacer la rotation anti-horaire par la combinaison `transpose` et `reverse`. <a href=\"https://ramdajs.com/repl/?v=0.28.0#?R.transpose%28%5B%5B1%2C%202%5D%2C%20%5B3%2C%204%5D%5D%29.reverse%28%29%0A%0A\" target=\"_blank\">Exemple que vous pouvez tester ici</a> :"
   ]
  },
  {
   "cell_type": "markdown",
   "id": "0cd2df0e",
   "metadata": {},
   "source": [
    "<pre>R.transpose([[1, 2], [3, 4]]).reverse()\n",
    "[[2, 4], [1, 3]]</pre>"
   ]
  },
  {
   "cell_type": "markdown",
   "id": "b3ef7eff",
   "metadata": {},
   "source": [
    "<a href=\"https://ramdajs.com/repl/?v=0.28.0#?var%20rotation%20%3D%20%28matrice%2C%20n%29%20%3D%3E%20%7B%0A%20%20n%20%25%3D%204%0A%20%20if%20%28n%20%3D%3D%200%29%20return%20matrice%0A%20%20matrice%20%3D%20R.transpose%28matrice%29.reverse%28%29%0A%20%20return%20rotation%28matrice%2C%20n%20-%201%29%0A%7D%0A%0Arotation%28%5B%5B1%2C%202%5D%2C%20%5B3%2C%204%5D%5D%2C%201%29%0A%0A\" target=\"_blank\">Version finale récursive à tester ici</a> : \n",
    "\n",
    "<pre>var rotation = (matrice, n) => {\n",
    "  n %= 4                                     // reste division par 4\n",
    "  if (n == 0) return matrice                 // fin récursivité\n",
    "  matrice = R.transpose(matrice).reverse()   // rotation anti-horaire   \n",
    "  return rotation(matrice, n - 1)            // appel récursif\n",
    "}\n",
    "\n",
    ">> rotation([[1, 2], [3, 4]], 1)\n",
    "[[2, 4], [1, 3]]</pre>"
   ]
  },
  {
   "cell_type": "markdown",
   "id": "18eea109",
   "metadata": {},
   "source": [
    "## Version sans bibliothèque"
   ]
  },
  {
   "cell_type": "markdown",
   "id": "f886211b",
   "metadata": {},
   "source": [
    "Pour se fixer les idées, supposons que l'on ait une matrice 3 x 3. Observez que faire une rotation anti-horaire, c'est remplacer la 1ere ligne par la dernière colonne, la 2e ligne par la 2e colonne et la 3e ligne par la 1ere colonne :\n",
    "\n",
    "<pre>matrice initiale\n",
    "\n",
    "1 2 3\n",
    "4 5 6\n",
    "7 8 9\n",
    "\n",
    "rotation anti-horaire\n",
    "\n",
    "3 6 9       // 1ere ligne = 3e colonne de la matrice initiale\n",
    "2 5 8       // 2e ligne = 2e colonne de la matrice initiale\n",
    "1 4 7       // 3e ligne = 3e colonne de la matrice initiale</pre>\n",
    "\n",
    "Dit autrement, faire une rotation anti-horaire, c'est prendre les colonnes de la droite vers la gauche et les écrire en lignes."
   ]
  },
  {
   "cell_type": "code",
   "execution_count": 1,
   "id": "b7810e5e",
   "metadata": {},
   "outputs": [],
   "source": [
    "var anti_horaire = matrice => {\n",
    "    res = [ ];                           // Matrice finale\n",
    "    taille = matrice.length;             // Taille matrice\n",
    "    for (l = 0; l < taille; l++) {       // Création de chaque ligne\n",
    "        ligne = [ ];                     // Initialisation \n",
    "        for (i = 0; i < taille; i++) {   // Chaque élément de la ligne \n",
    "            ligne.push(matrice[i][taille - l - 1])\n",
    "        };\n",
    "        res.push(ligne)                  // Ajout de la ligne\n",
    "    };\n",
    "    return res;                          // On retourne le résultat\n",
    "}"
   ]
  },
  {
   "cell_type": "code",
   "execution_count": 2,
   "id": "c3e81182",
   "metadata": {},
   "outputs": [
    {
     "data": {
      "text/plain": [
       "[ [ 3, 6, 9 ], [ 2, 5, 8 ], [ 1, 4, 7 ] ]"
      ]
     },
     "execution_count": 2,
     "metadata": {},
     "output_type": "execute_result"
    }
   ],
   "source": [
    "anti_horaire([[1,2,3], [4,5,6], [7,8,9]])"
   ]
  },
  {
   "cell_type": "markdown",
   "id": "3341e1ef",
   "metadata": {},
   "source": [
    "Comme il s'agit de **transformer** chacune des lignes, on peut également utiliser `map`. Voici ci-dessous la même version du programme précédent. Le `matrice[0]` permet de récupérer la première ligne de la matrice et donc un **tableau qui a la largeur de cette matrice**, son contenu ne nous intéresse pas puisqu'il va être calculé, d'où le _. Pour chaque numéro de ligne (variable l), on remplace les éléments par la colonne correspondante en partant de la droite (`x.length - l - 1`):"
   ]
  },
  {
   "cell_type": "code",
   "execution_count": 3,
   "id": "0bc5273f",
   "metadata": {},
   "outputs": [],
   "source": [
    "var anti_horaire = matrice => matrice[0].map((_,l) => matrice.map(x => x[x.length - l - 1]))"
   ]
  },
  {
   "cell_type": "markdown",
   "id": "3ae4221e",
   "metadata": {},
   "source": [
    "Version finale (sans bibliothèque) :"
   ]
  },
  {
   "cell_type": "code",
   "execution_count": 4,
   "id": "63047dd1",
   "metadata": {},
   "outputs": [],
   "source": [
    "var rotation = (matrice, n) => {\n",
    "    for (i = 0; i < n % 4; i++)\n",
    "     matrice = matrice[0].map((_,l) => \n",
    "                matrice.map(x => x[x.length - l - 1]))\n",
    "    return matrice\n",
    "}"
   ]
  },
  {
   "cell_type": "code",
   "execution_count": 5,
   "id": "5977c64c",
   "metadata": {},
   "outputs": [
    {
     "data": {
      "text/plain": [
       "[ [ 3, 6, 9 ], [ 2, 5, 8 ], [ 1, 4, 7 ] ]"
      ]
     },
     "execution_count": 5,
     "metadata": {},
     "output_type": "execute_result"
    }
   ],
   "source": [
    "rotation([[1,2,3], [4,5,6], [7,8,9]], 1)"
   ]
  },
  {
   "cell_type": "code",
   "execution_count": 6,
   "id": "2e0b2ab4",
   "metadata": {},
   "outputs": [
    {
     "data": {
      "text/plain": [
       "[ [ 9, 8, 7 ], [ 6, 5, 4 ], [ 3, 2, 1 ] ]"
      ]
     },
     "execution_count": 6,
     "metadata": {},
     "output_type": "execute_result"
    }
   ],
   "source": [
    "rotation([[1,2,3], [4,5,6], [7,8,9]], 2)"
   ]
  }
 ],
 "metadata": {
  "kernelspec": {
   "display_name": "JavaScript (Node.js)",
   "language": "javascript",
   "name": "javascript"
  },
  "language_info": {
   "file_extension": ".js",
   "mimetype": "application/javascript",
   "name": "javascript",
   "version": "18.3.0"
  }
 },
 "nbformat": 4,
 "nbformat_minor": 5
}
