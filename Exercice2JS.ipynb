{
 "cells": [
  {
   "cell_type": "markdown",
   "id": "3d9a3c83",
   "metadata": {},
   "source": [
    "# Deuxième exercice JavaScript"
   ]
  },
  {
   "cell_type": "markdown",
   "id": "e3f3c6fe",
   "metadata": {},
   "source": [
    "<img src=\"https://blog.univ-angers.fr/mathsinfo/files/2022/06/image-1.png\">"
   ]
  },
  {
   "cell_type": "markdown",
   "id": "e2ba7a70",
   "metadata": {},
   "source": [
    "*Résumé en français* : On vous donne 3 nombres différents dans un ordre quelconque. En sortie, donnez le rang du nombre qui est entre les 2 autres. Par exemple avec 2, 3, 1 c'est le chiffre 2 qui est entre 1 et 3, son rang dans 2, 3, 1 est 0."
   ]
  },
  {
   "cell_type": "markdown",
   "id": "231987f5",
   "metadata": {},
   "source": [
    "## Partons d'un tri"
   ]
  },
  {
   "cell_type": "markdown",
   "id": "9ceadf2a",
   "metadata": {},
   "source": [
    "Une première idée est de trier les 3 éléments (par ordre croissant ou décroissant, peu importe), de chercher quelle valeur est au milieu et enfin de récupérer le rang de cette valeur dans le tableau initial. Par exemple avec 2, 3 et 1, le tri donne 1, 2, 3 ce qui permet de récupérer la valeur centrale “2” et donc son rang 0 dans le tableau initial."
   ]
  },
  {
   "cell_type": "markdown",
   "id": "ab63b3b3",
   "metadata": {},
   "source": [
    "En JavaScript, la méthode `sort` fait un tri alphabétique, si bien que :"
   ]
  },
  {
   "cell_type": "code",
   "execution_count": 1,
   "id": "1f71ac30",
   "metadata": {},
   "outputs": [
    {
     "data": {
      "text/plain": [
       "[ 1, 21, 3 ]"
      ]
     },
     "execution_count": 1,
     "metadata": {},
     "output_type": "execute_result"
    }
   ],
   "source": [
    "[21, 3, 1].sort()"
   ]
  },
  {
   "cell_type": "markdown",
   "id": "364940ef",
   "metadata": {},
   "source": [
    "En effet, dans un dictionnaire, le “mot” 21 est avant le “mot” 3… C’est pourquoi on utilise très souvent une fonction de comparaison. Voici celle pour obtenir un tri croissant :"
   ]
  },
  {
   "cell_type": "code",
   "execution_count": 2,
   "id": "0dfb6867",
   "metadata": {},
   "outputs": [
    {
     "data": {
      "text/plain": [
       "[ 1, 3, 21 ]"
      ]
     },
     "execution_count": 2,
     "metadata": {},
     "output_type": "execute_result"
    }
   ],
   "source": [
    "[21, 3, 1].sort((a, b) => a - b)"
   ]
  },
  {
   "cell_type": "markdown",
   "id": "c0955824",
   "metadata": {},
   "source": [
    "Lorsque la différence `a – b` est négative, `a` sera placé avant `b`, si la différence est positive `a` sera placé après `b` sinon les 2 éléments restent inchangés."
   ]
  },
  {
   "cell_type": "code",
   "execution_count": 3,
   "id": "a846b2d8",
   "metadata": {},
   "outputs": [
    {
     "data": {
      "text/plain": [
       "[Function: milieu]"
      ]
     },
     "execution_count": 3,
     "metadata": {},
     "output_type": "execute_result"
    }
   ],
   "source": [
    "milieu = triplet => triplet.indexOf([...triplet].sort((a, b) => a - b)[1])"
   ]
  },
  {
   "cell_type": "code",
   "execution_count": 4,
   "id": "18619d64",
   "metadata": {},
   "outputs": [
    {
     "data": {
      "text/plain": [
       "0"
      ]
     },
     "execution_count": 4,
     "metadata": {},
     "output_type": "execute_result"
    }
   ],
   "source": [
    "milieu([2, 3, 1])"
   ]
  },
  {
   "cell_type": "code",
   "execution_count": 5,
   "id": "f86f6c11",
   "metadata": {},
   "outputs": [
    {
     "data": {
      "text/plain": [
       "1"
      ]
     },
     "execution_count": 5,
     "metadata": {},
     "output_type": "execute_result"
    }
   ],
   "source": [
    "milieu([5, 10, 14])"
   ]
  },
  {
   "cell_type": "markdown",
   "id": "b44a1d84",
   "metadata": {},
   "source": [
    "`[...triplet]` permet de faire une copie du tableau initial."
   ]
  },
  {
   "cell_type": "markdown",
   "id": "82b8ba27",
   "metadata": {},
   "source": [
    "## Et si on cherchait un invariant ?"
   ]
  },
  {
   "cell_type": "markdown",
   "id": "1e4fbfde",
   "metadata": {},
   "source": [
    "Remarquons que si l'on trouve les **positions** de la plus grande valeur (**max**) et de la plus petite valeur (**min**) du triplet, la position **restante** sera celle que l'on cherche."
   ]
  },
  {
   "cell_type": "markdown",
   "id": "98fa659f",
   "metadata": {},
   "source": [
    "Mais l'ensemble des positions sera toujours { 0, 1, 2 }. Par exemple si le max est en 2e et le min en 1er, alors le milieu est en position 0. L'invariant intéressant ici est la somme des positions qui vaut toujours 0+1+2=3. Le rang que l'on cherche est donc :\n",
    "\n",
    "`rang_cherché = 3 - rang(max) - rang(min)`"
   ]
  },
  {
   "cell_type": "code",
   "execution_count": 6,
   "id": "ed8eaac9",
   "metadata": {},
   "outputs": [
    {
     "data": {
      "text/plain": [
       "[Function: milieu]"
      ]
     },
     "execution_count": 6,
     "metadata": {},
     "output_type": "execute_result"
    }
   ],
   "source": [
    "milieu = triplet => 3 - triplet.indexOf(Math.max(...triplet))\n",
    "                      - triplet.indexOf(Math.min(...triplet))"
   ]
  },
  {
   "cell_type": "markdown",
   "id": "7ab3941e",
   "metadata": {},
   "source": [
    "Observez la différence en JavaScript entre :"
   ]
  },
  {
   "cell_type": "code",
   "execution_count": 7,
   "id": "78181522",
   "metadata": {},
   "outputs": [
    {
     "data": {
      "text/plain": [
       "10"
      ]
     },
     "execution_count": 7,
     "metadata": {},
     "output_type": "execute_result"
    }
   ],
   "source": [
    "Math.max(2,5,8,1,10,3)"
   ]
  },
  {
   "cell_type": "code",
   "execution_count": 8,
   "id": "7d8cdb5c",
   "metadata": {},
   "outputs": [
    {
     "data": {
      "text/plain": [
       "NaN"
      ]
     },
     "execution_count": 8,
     "metadata": {},
     "output_type": "execute_result"
    }
   ],
   "source": [
    "Math.max([2,5,8,1,10,3])"
   ]
  },
  {
   "cell_type": "code",
   "execution_count": 9,
   "id": "e5a3f3f9",
   "metadata": {},
   "outputs": [
    {
     "data": {
      "text/plain": [
       "10"
      ]
     },
     "execution_count": 9,
     "metadata": {},
     "output_type": "execute_result"
    }
   ],
   "source": [
    "Math.max(...[2,5,8,1,10,3])"
   ]
  }
 ],
 "metadata": {
  "kernelspec": {
   "display_name": "JavaScript (Node.js)",
   "language": "javascript",
   "name": "javascript"
  },
  "language_info": {
   "file_extension": ".js",
   "mimetype": "application/javascript",
   "name": "javascript",
   "version": "18.3.0"
  }
 },
 "nbformat": 4,
 "nbformat_minor": 5
}
